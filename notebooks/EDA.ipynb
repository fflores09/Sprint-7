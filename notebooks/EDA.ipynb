{
 "cells": [
  {
   "cell_type": "code",
   "execution_count": null,
   "id": "f67cc9fb",
   "metadata": {},
   "outputs": [
    {
     "ename": "SyntaxError",
     "evalue": "(unicode error) 'unicodeescape' codec can't decode bytes in position 2-3: truncated \\UXXXXXXXX escape (37811850.py, line 5)",
     "output_type": "error",
     "traceback": [
      "\u001b[1;36m  Cell \u001b[1;32mIn[2], line 5\u001b[1;36m\u001b[0m\n\u001b[1;33m    car_data = pd.read_csv('C:\\Users\\panch\\OneDrive\\Documentos 1\\Bootcamp\\Sprint 7 proyecto\\Project\\Sprint-7\\vehicles_us.csv')\u001b[0m\n\u001b[1;37m                           ^\u001b[0m\n\u001b[1;31mSyntaxError\u001b[0m\u001b[1;31m:\u001b[0m (unicode error) 'unicodeescape' codec can't decode bytes in position 2-3: truncated \\UXXXXXXXX escape\n"
     ]
    }
   ],
   "source": [
    "import pandas as pd\n",
    "import plotly.graph_objects as go # Importación de plotly.graph_objects como go\n",
    "\n",
    "# Leer los datos del archivo CSV\n",
    "car_data = pd.read_csv('vehicles_us.csv')\n",
    "\n",
    "# Crear un histograma utilizando plotly.graph_objects\n",
    "# Se crea una figura vacía y luego se añade un rastro de histograma\n",
    "fig = go.Figure(data=[go.Histogram(x=car_data['odometer'])])\n",
    "\n",
    "# Opcional: Puedes añadir un título al gráfico si lo deseas\n",
    "fig.update_layout(title_text='Distribución del Odómetro')\n",
    "\n",
    "# Mostrar el gráfico Plotly\n",
    "fig.show()"
   ]
  },
  {
   "cell_type": "code",
   "execution_count": null,
   "id": "91704944",
   "metadata": {},
   "outputs": [],
   "source": [
    "# Leer los datos del archivo CSV\n",
    "car_data = pd.read_csv('vehicles_us.csv')\n",
    "\n",
    "# Crear un scatter plot utilizando plotly.graph_objects\n",
    "# Se crea una figura vacía y luego se añade un rastro de scatter\n",
    "fig = go.Figure(data=[go.Scatter(x=car_data['odometer'], y=car_data['price'], mode='markers')])\n",
    "\n",
    "# Opcional: Puedes añadir un título al gráfico si lo deseas\n",
    "fig.update_layout(title_text='Relación entre Odómetro y Precio')\n",
    "\n",
    "# Mostrar el gráfico Plotly\n",
    "fig.show()"
   ]
  }
 ],
 "metadata": {
  "kernelspec": {
   "display_name": "base",
   "language": "python",
   "name": "python3"
  },
  "language_info": {
   "codemirror_mode": {
    "name": "ipython",
    "version": 3
   },
   "file_extension": ".py",
   "mimetype": "text/x-python",
   "name": "python",
   "nbconvert_exporter": "python",
   "pygments_lexer": "ipython3",
   "version": "3.13.5"
  }
 },
 "nbformat": 4,
 "nbformat_minor": 5
}
